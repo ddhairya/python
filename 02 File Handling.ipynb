{
 "cells": [
  {
   "cell_type": "markdown",
   "metadata": {},
   "source": [
    "### File Handling\n",
    "\n",
    "We will open and create the binary(.dll) or text(.txt) files through code using built in library.\n",
    "\n",
    "##### file mode\n",
    "1. r - it will allow to only read, it will make the pointer at the very last. it's a default mode\n",
    "2. w - it will allow to read and write. It will overwrite the existing if exists or create a new file.\n",
    "3. a - it will append the content in the existing file.\n",
    "4. r+ - it will allow open a file for reading and writing.If file not exists it will create a new.\n",
    "5. w+ - it will allow for both writing and reading. It will overwrite the existing if exists or create a new file.\n",
    "6. a+ - it will open a file for both reading and appending If file not exists it will create a new.\n",
    "\n",
    "#### file function()\n",
    "\n",
    "1. open('filename', 'mode') - it will open a specified file with a mode\n",
    "2. f.read() - it will read the file.\n",
    "2. f.readlines() - it will return the list with each line.\n",
    "3. f.seek(0) - it will make the cursor to the starting point\n",
    "4. f.readline() - it will read the single line\n",
    "5. f.write(\"\") - it will write in the file.\n",
    "6. f.tell() - it will give the current position of the cursor in the file"
   ]
  },
  {
   "cell_type": "code",
   "execution_count": 2,
   "metadata": {},
   "outputs": [
    {
     "name": "stdout",
     "output_type": "stream",
     "text": [
      "Hello\n",
      "Welcome to the world of pythonThis line is added using append mode\n",
      "This line is added using append mode\n",
      "This is with the with statement  \n",
      "This is with the with statement  \n",
      "['Hello\\n', 'Welcome to the world of pythonThis line is added using append mode\\n', 'This line is added using append mode\\n', 'This is with the with statement  \\n', 'This is with the with statement  ']\n",
      "Posistion 180\n",
      "Hello\n",
      "\n",
      "['Hello', 'Welcome to the world of pythonThis line is added using append mode', 'This line is added using append mode', 'This is with the with statement  ', 'This is with the with statement  ']\n"
     ]
    }
   ],
   "source": [
    "# file handling with r mode\n",
    "\n",
    "file = open('example.txt','r')\n",
    "content1 = file.read()\n",
    "print(content1)\n",
    "file.seek(0)\n",
    "content2 = file.readlines()\n",
    "print(content2)\n",
    "print(\"Posistion\",file.tell())\n",
    "file.seek(0)\n",
    "content3 = file.readline()\n",
    "print(content3)\n",
    "content2 = [i.rstrip(\"\\n\") for i in content2]\n",
    "print(content2)\n",
    "\n",
    "file.close()"
   ]
  },
  {
   "cell_type": "code",
   "execution_count": 26,
   "metadata": {},
   "outputs": [
    {
     "name": "stdout",
     "output_type": "stream",
     "text": [
      "This is the first program with write mode \n",
      "It will allow to write in the file until it's not close\n",
      "To save the content we have to close it\n"
     ]
    }
   ],
   "source": [
    "# file handling with w mode\n",
    "\n",
    "file = open(\"example_w.txt\",'w')\n",
    "file.write(\"This is the first program with write mode \\n\")\n",
    "file.write(\"It will allow to write in the file until it's not close\\n\")\n",
    "file.write(\"To save the content we have to close it\")\n",
    "file.close()\n",
    "\n",
    "file = open(\"example_w.txt\",'r')\n",
    "content = file.read()\n",
    "print(content)\n",
    "file.close()"
   ]
  },
  {
   "cell_type": "code",
   "execution_count": 28,
   "metadata": {},
   "outputs": [
    {
     "name": "stdout",
     "output_type": "stream",
     "text": [
      "Hello\n",
      "Welcome to the world of pythonThis line is added using append mode\n",
      "This line is added using append mode\n"
     ]
    }
   ],
   "source": [
    "# file handling with a mode\n",
    "\n",
    "file = open(\"example.txt\",'a')\n",
    "content = file.write(\"\\nThis line is added using append mode\")\n",
    "file.close()\n",
    "\n",
    "\n",
    "file = open(\"example.txt\",'r')\n",
    "content = file.read()\n",
    "print(content)\n",
    "file.close()"
   ]
  },
  {
   "cell_type": "markdown",
   "metadata": {},
   "source": [
    "#### with statement\n",
    "\n",
    "it will make sure without defining close() method explicitly it will close it"
   ]
  },
  {
   "cell_type": "code",
   "execution_count": 30,
   "metadata": {},
   "outputs": [],
   "source": [
    "# using with statement it will clean the code.\n",
    "\n",
    "\n",
    "with open('example.txt','a+') as file:\n",
    "    file.seek(0)\n",
    "    file.write(\"\\nThis is with the with statement  \")"
   ]
  },
  {
   "cell_type": "code",
   "execution_count": null,
   "metadata": {},
   "outputs": [],
   "source": []
  }
 ],
 "metadata": {
  "kernelspec": {
   "display_name": "Python 3",
   "language": "python",
   "name": "python3"
  },
  "language_info": {
   "codemirror_mode": {
    "name": "ipython",
    "version": 3
   },
   "file_extension": ".py",
   "mimetype": "text/x-python",
   "name": "python",
   "nbconvert_exporter": "python",
   "pygments_lexer": "ipython3",
   "version": "3.6.7"
  }
 },
 "nbformat": 4,
 "nbformat_minor": 2
}
