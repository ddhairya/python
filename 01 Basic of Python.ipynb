{
 "cells": [
  {
   "cell_type": "markdown",
   "metadata": {},
   "source": [
    "## Getting started with Python\n",
    "\n",
    "Recommended Pycharm Community edition or Anaconda Distribution for the getting the all tools in one package through the below links\n",
    "\n",
    "Pycharm - https://www.jetbrains.com/pycharm/download/\n",
    "\n",
    "Anaconda - https://www.anaconda.com/distribution/#download-section\n",
    "\n"
   ]
  },
  {
   "cell_type": "code",
   "execution_count": 4,
   "metadata": {},
   "outputs": [
    {
     "name": "stdout",
     "output_type": "stream",
     "text": [
      "hello\n"
     ]
    }
   ],
   "source": [
    "# The first hello program\n",
    "\n",
    "print (\"hello\")"
   ]
  },
  {
   "cell_type": "markdown",
   "metadata": {},
   "source": [
    "#### help()\n",
    "\n",
    "It gives the info about the particular variable or function"
   ]
  },
  {
   "cell_type": "code",
   "execution_count": 11,
   "metadata": {
    "scrolled": true
   },
   "outputs": [
    {
     "name": "stdout",
     "output_type": "stream",
     "text": [
      "Help on built-in function print in module builtins:\n",
      "\n",
      "print(...)\n",
      "    print(value, ..., sep=' ', end='\\n', file=sys.stdout, flush=False)\n",
      "    \n",
      "    Prints the values to a stream, or to sys.stdout by default.\n",
      "    Optional keyword arguments:\n",
      "    file:  a file-like object (stream); defaults to the current sys.stdout.\n",
      "    sep:   string inserted between values, default a space.\n",
      "    end:   string appended after the last value, default a newline.\n",
      "    flush: whether to forcibly flush the stream.\n",
      "\n"
     ]
    }
   ],
   "source": [
    "# This will show what print() does - Prints the values to a stream\n",
    "\n",
    "help(print)"
   ]
  },
  {
   "cell_type": "markdown",
   "metadata": {},
   "source": [
    "#### Variable in Python\n",
    "\n",
    "Variable are used to store the data in the python.\n",
    "\n",
    "#### Types of variable\n",
    "\n",
    "1. int - stores integer values 0\n",
    "2. float - stores decimal values 0.0\n",
    "3. str - stores text values \"Hello\"\n",
    "4. bool - stores either True or False\n",
    "\n",
    "\n",
    "#### type()\n",
    "\n",
    "It will return the datatype of the variable "
   ]
  },
  {
   "cell_type": "code",
   "execution_count": 12,
   "metadata": {},
   "outputs": [
    {
     "name": "stdout",
     "output_type": "stream",
     "text": [
      "5\n",
      "<class 'int'>\n"
     ]
    }
   ],
   "source": [
    "# example of integer \n",
    "\n",
    "x1 = 5\n",
    "print (x1)\n",
    "print(type(x1))"
   ]
  },
  {
   "cell_type": "code",
   "execution_count": 13,
   "metadata": {},
   "outputs": [
    {
     "name": "stdout",
     "output_type": "stream",
     "text": [
      "5.0\n",
      "<class 'float'>\n"
     ]
    }
   ],
   "source": [
    "# example of float\n",
    "x2 = 5.0\n",
    "print (x2)\n",
    "print (type(x2))\n"
   ]
  },
  {
   "cell_type": "code",
   "execution_count": 14,
   "metadata": {},
   "outputs": [
    {
     "name": "stdout",
     "output_type": "stream",
     "text": [
      "Hello\n",
      "<class 'str'>\n"
     ]
    }
   ],
   "source": [
    "x3 = \"Hello\"\n",
    "\n",
    "print(x3)\n",
    "print(type(x3))"
   ]
  },
  {
   "cell_type": "code",
   "execution_count": 15,
   "metadata": {},
   "outputs": [
    {
     "name": "stdout",
     "output_type": "stream",
     "text": [
      "True\n",
      "<class 'bool'>\n"
     ]
    }
   ],
   "source": [
    "x4 = True\n",
    "\n",
    "print(x4)\n",
    "print(type(x4))"
   ]
  },
  {
   "cell_type": "markdown",
   "metadata": {},
   "source": [
    "#### Operators\n",
    "\n",
    "They are used to perform the various operation.\n",
    "\n",
    "* arithmatic\n",
    "       1. +\n",
    "       2. -\n",
    "       3. *\n",
    "       4. /\n",
    "* conditional\n",
    "        1. ==\n",
    "        2. !=\n",
    "        3. >\n",
    "        4. <\n",
    "        5. >=\n",
    "        6. <=\n",
    "        7. and  we will look into it after condtion module\n",
    "        8. or   we will look into it after condtion module\n",
    "* assignment\n",
    "        1. =   assign the value\n",
    "        2. +=  add the right variable to the left variable and assign it to the left variable\n",
    "        3. -=  sub the right variable to the left variable and assign it to the left variable\n",
    "        4. /=  div the right variable to the left variable and assign it to the left variable\n",
    "        5. *=  multiply the right variable to the left variable and assign it to the left variable\n",
    "        6. //  it will return the integer value for the division"
   ]
  },
  {
   "cell_type": "markdown",
   "metadata": {},
   "source": [
    "#### Operator Precendence\n",
    " \n",
    "left to right\n",
    "1. ()\n",
    "2. **\n",
    "3. *,/\n",
    "4. +, -"
   ]
  },
  {
   "cell_type": "code",
   "execution_count": 16,
   "metadata": {
    "scrolled": true
   },
   "outputs": [
    {
     "name": "stdout",
     "output_type": "stream",
     "text": [
      "14\n",
      "<class 'int'>\n",
      "-4\n",
      "<class 'int'>\n",
      "45\n",
      "<class 'int'>\n",
      "0.5555555555555556\n",
      "<class 'float'>\n"
     ]
    }
   ],
   "source": [
    "# arithmatic\n",
    "\n",
    "a1 = 5\n",
    "a2 = 9\n",
    "\n",
    "a3 = a1 + a2\n",
    "print(a3)\n",
    "print(type(a3))\n",
    "\n",
    "a4 = a1 - a2\n",
    "print(a4)\n",
    "print(type(a4))\n",
    "\n",
    "a5 = a1 * a2\n",
    "print(a5)\n",
    "print(type(a5))\n",
    "\n",
    "a6 = a1 / a2\n",
    "print(a6)\n",
    "print(type(a6))"
   ]
  },
  {
   "cell_type": "code",
   "execution_count": 18,
   "metadata": {},
   "outputs": [
    {
     "name": "stdout",
     "output_type": "stream",
     "text": [
      "False\n",
      "<class 'bool'>\n",
      "False\n",
      "<class 'bool'>\n",
      "True\n",
      "<class 'bool'>\n",
      "False\n",
      "<class 'bool'>\n",
      "True\n",
      "<class 'bool'>\n",
      "True\n",
      "<class 'bool'>\n"
     ]
    }
   ],
   "source": [
    "# conditional\n",
    "\n",
    "b1 = 5\n",
    "b2 = 90\n",
    "\n",
    "b3 = b1 == b2\n",
    "print(b3)\n",
    "print(type(b3))\n",
    "\n",
    "b4 = b1 > b2\n",
    "print(b4)\n",
    "print(type(b4))\n",
    "\n",
    "b5 = b1 < b2\n",
    "print(b5)\n",
    "print(type(b5))\n",
    "\n",
    "b6 = b1 >= b2\n",
    "print(b6)\n",
    "print(type(b6))\n",
    "\n",
    "b7 = b1 <= b2\n",
    "print(b7)\n",
    "print(type(b7))\n",
    "\n",
    "b8 = b1 != b2\n",
    "print(b8)\n",
    "print(type(b8))\n"
   ]
  },
  {
   "cell_type": "code",
   "execution_count": 28,
   "metadata": {},
   "outputs": [
    {
     "name": "stdout",
     "output_type": "stream",
     "text": [
      "14\n",
      "1\n",
      "The acutal ans will be 1.56\n",
      "9\n",
      "-72\n",
      "-8.0\n"
     ]
    }
   ],
   "source": [
    "# assignment\n",
    "\n",
    "c1 = 5\n",
    "c2 = 9\n",
    "\n",
    "\n",
    "c1 += c2\n",
    "print(c1)\n",
    "\n",
    "c1 //= c2\n",
    "print(c1)\n",
    "print(\"The acutal ans will be 1.56\")\n",
    "\n",
    "c1 -= c2\n",
    "print(c2)\n",
    "\n",
    "c1 *= c2\n",
    "print(c1)\n",
    "\n",
    "c1 /= c2\n",
    "print(c1)\n"
   ]
  },
  {
   "cell_type": "markdown",
   "metadata": {},
   "source": [
    "#### condition\n",
    "\n",
    "1. if:\n",
    "2. if: else:\n",
    "3. if: elif: else:        "
   ]
  },
  {
   "cell_type": "code",
   "execution_count": 84,
   "metadata": {},
   "outputs": [
    {
     "name": "stdout",
     "output_type": "stream",
     "text": [
      "0\n",
      "x2 is greater\n",
      "x1 and x2 are equal\n"
     ]
    }
   ],
   "source": [
    "x1 = 5\n",
    "x2 = 5\n",
    "x3 = 0\n",
    "\n",
    "if x1 > x2:\n",
    "    x3 = x1+x2\n",
    "    print(\"x1 is greater\")\n",
    "print(x3)\n",
    "\n",
    "if x1 > x2:\n",
    "    x3 = x1+x2\n",
    "    print(\"x1 is greater\")\n",
    "else:\n",
    "    print(\"x2 is greater\")\n",
    "    \n",
    "if x1 > x2:\n",
    "    x3 = x1+x2\n",
    "    print(\"x1 is greater\")\n",
    "elif x1 == x2:\n",
    "    print(\"x1 and x2 are equal\")\n",
    "else:\n",
    "    print(\"x2 is greater\")"
   ]
  },
  {
   "cell_type": "markdown",
   "metadata": {},
   "source": [
    "#### advance single line usage\n",
    "\n",
    "1. action if condition else action\n",
    "2. action if condition else | action if condition else action\n",
    "3. action if condition else | action if condition else | action if condition else action\n",
    "       "
   ]
  },
  {
   "cell_type": "code",
   "execution_count": 97,
   "metadata": {},
   "outputs": [
    {
     "name": "stdout",
     "output_type": "stream",
     "text": [
      "5 is greater than 5\n",
      "5 is equal to 5\n"
     ]
    }
   ],
   "source": [
    "# advance single line usage\n",
    "x1 = 5\n",
    "x2 = 5\n",
    "\n",
    "print( x1,\" is greater than\", x2 ) if x1 > x2 else print ( x2, \"is greater than\", x1) \n",
    "print( x1,\" is greater than\", x2 ) if x1 > x2 else print ( x2, \"is equal to\", x1) if x1 == x2 else print ( x2, \"is greater than\", x1) "
   ]
  },
  {
   "cell_type": "markdown",
   "metadata": {},
   "source": [
    "#### Statement\n",
    "\n",
    "* break - it will get you out of the loop\n",
    "\n",
    "* continue - it will get you to the top of the loop (all the statement below continue will be skip and the control of the loop will be on the top again.\n",
    "\n",
    "* pass - do nothing just ignore "
   ]
  },
  {
   "cell_type": "markdown",
   "metadata": {},
   "source": [
    "#### loops\n",
    "\n",
    "used to iterate until a condition is satisfied to get the desired output\n",
    "\n",
    "* finite loop\n",
    "    1. for\n",
    "    2. while\n",
    "* infinite loop\n",
    "    1. There is no end this is specially for the the game, network ,,, until condition become false \n",
    "* nested loop\n",
    "    1. using loop inside a loop\n"
   ]
  },
  {
   "cell_type": "code",
   "execution_count": 38,
   "metadata": {},
   "outputs": [
    {
     "name": "stdout",
     "output_type": "stream",
     "text": [
      "p\n",
      "y\n",
      "t\n",
      "h\n",
      "o\n",
      "n\n"
     ]
    }
   ],
   "source": [
    "# for - loop \n",
    "\n",
    "x = \"python\"\n",
    "\n",
    "for i in x:\n",
    "    print(i)\n",
    "\n"
   ]
  },
  {
   "cell_type": "code",
   "execution_count": 49,
   "metadata": {},
   "outputs": [
    {
     "name": "stdout",
     "output_type": "stream",
     "text": [
      "1\n",
      "2\n",
      "3\n",
      "4\n"
     ]
    }
   ],
   "source": [
    "# while - loop\n",
    "\n",
    "x = 1\n",
    "\n",
    "while x < 5:\n",
    "    print(x)\n",
    "    x += 1"
   ]
  },
  {
   "cell_type": "code",
   "execution_count": 51,
   "metadata": {
    "scrolled": true
   },
   "outputs": [
    {
     "name": "stdout",
     "output_type": "stream",
     "text": [
      "5\n",
      "6\n",
      "7\n",
      "8\n",
      "9\n"
     ]
    }
   ],
   "source": [
    "# infinite - loop\n",
    "# it will run until we don't break it.\n",
    "\n",
    "x = 5\n",
    "\n",
    "while True:\n",
    "    if x == 9:\n",
    "        print (x)\n",
    "        break\n",
    "    else:\n",
    "        print(x)\n",
    "        x += 1"
   ]
  },
  {
   "cell_type": "code",
   "execution_count": 79,
   "metadata": {
    "scrolled": true
   },
   "outputs": [
    {
     "name": "stdout",
     "output_type": "stream",
     "text": [
      "\n",
      "*\n",
      "\n",
      "*\n",
      "*\n",
      "\n",
      "*\n",
      "*\n",
      "*\n",
      "\n",
      "*\n",
      "*\n",
      "*\n",
      "*\n",
      "\n",
      "\n",
      "*\n",
      "**\n",
      "***\n",
      "****\n",
      "\n",
      "*\n",
      "**\n",
      "***\n",
      "****\n",
      "\n",
      "*\n",
      "**\n",
      "***\n",
      "****\n"
     ]
    }
   ],
   "source": [
    "# nested - loop\n",
    "# end in print() will say you want a space instead of a new line\n",
    "\n",
    "for i in range(0,5):\n",
    "    for x in range(i):\n",
    "        print ('*')\n",
    "    print()\n",
    "\n",
    "for i in range(0,5):\n",
    "    for x in range(i):\n",
    "        print ('*', end ='')\n",
    "    print()\n",
    "    \n",
    "for i in range(5):\n",
    "    for x in range(i):\n",
    "        print ('*', end ='')\n",
    "    print()\n",
    "    \n",
    "for i in range(1,6):\n",
    "    print('*' * (i-1))\n"
   ]
  },
  {
   "cell_type": "markdown",
   "metadata": {},
   "source": [
    "#### conditional operator\n",
    "\n",
    "1. and\n",
    "2. or"
   ]
  },
  {
   "cell_type": "code",
   "execution_count": 5,
   "metadata": {},
   "outputs": [
    {
     "name": "stdout",
     "output_type": "stream",
     "text": [
      "x1 is not equal to 5\n",
      "x1 is either equal to 5 or greater than 5\n"
     ]
    }
   ],
   "source": [
    "x1 = 5\n",
    "\n",
    "if x1 > 5 and x1 == 5:\n",
    "    print (\"x1 is equal 5\")\n",
    "else:\n",
    "    print (\"x1 is not equal to 5\")\n",
    "\n",
    "if x1 > 5 or x1 == 5:\n",
    "    print (\"x1 is either equal to 5 or greater than 5\")\n",
    "else:\n",
    "    print (\"x1 is less than 5\")"
   ]
  },
  {
   "cell_type": "markdown",
   "metadata": {},
   "source": [
    "#### input()\n",
    "\n",
    "takes the input from the user, instead of static variable value"
   ]
  },
  {
   "cell_type": "code",
   "execution_count": 1,
   "metadata": {},
   "outputs": [
    {
     "name": "stdout",
     "output_type": "stream",
     "text": [
      "Please enter the value of x1 5\n",
      "5\n"
     ]
    }
   ],
   "source": [
    "x = input(\"Please enter the value of x1 \")\n",
    "\n",
    "print(x)"
   ]
  },
  {
   "cell_type": "markdown",
   "metadata": {},
   "source": [
    "#### function\n",
    "\n",
    "1. User define - def is the keyword we will use to define a function. It's an user define funtion\n",
    "2. Lambda - lambda is the keyword we will use to define a lambda function. It's an anonymous function can take n number of arguments but it will have only one expression.\n",
    "\n",
    "#### function argument\n",
    "\n",
    "1. values\n",
    "2. variables and values\n",
    "3. Default value"
   ]
  },
  {
   "cell_type": "markdown",
   "metadata": {},
   "source": [
    "#### Reserve words in pthon\n",
    "\n",
    "We can't use the below word for user define variable or function\n",
    "\n",
    "True, False, and, or, None, def, del, elif, for, while, if, else, do, continue, break, return, class, global, nonlocal, import, with, yield, try, except, raise, pass, not, lambda, is, in, from, finally, assert"
   ]
  },
  {
   "cell_type": "code",
   "execution_count": 1,
   "metadata": {},
   "outputs": [
    {
     "name": "stdout",
     "output_type": "stream",
     "text": [
      "Please enter the number to check is odd or even: 50\n",
      "It's an even number\n"
     ]
    }
   ],
   "source": [
    "# checking even or odd number\n",
    "\n",
    "def odd_even(x):\n",
    "    if x % 2 == 0:\n",
    "        return \"It's an even number\"\n",
    "    else:\n",
    "        return \"It's an odd number\"\n",
    "\n",
    "x = int(input(\"Please enter the number to check is odd or even: \"))\n",
    "print(odd_even(x=x))"
   ]
  },
  {
   "cell_type": "code",
   "execution_count": 20,
   "metadata": {},
   "outputs": [
    {
     "name": "stdout",
     "output_type": "stream",
     "text": [
      "Not a prime number\n",
      "Enter the number to check is a prime or not, enter q to exit the program:0\n",
      "Not a prime number\n",
      "Enter the number to check is a prime or not, enter q to exit the program:q\n"
     ]
    }
   ],
   "source": [
    "# checking prime number\n",
    "\n",
    "def primenum(x = 0):\n",
    "    if x <= 1:\n",
    "        return \"Not a prime number\"\n",
    "    else:\n",
    "        for i in range(2,x):\n",
    "            if (x % i) == 0:\n",
    "                return \"Not a prime number\"\n",
    "            else:\n",
    "                return \"A prime number\"\n",
    "\n",
    "\n",
    "\n",
    "while True:\n",
    "    x = input(\"Enter the number to check is a prime or not, enter q to exit the program:\")\n",
    "    if x == \"q\":\n",
    "        break\n",
    "    elif x == '':\n",
    "        print(primenum(0))\n",
    "    else:\n",
    "        print(primenum(int(x)))"
   ]
  },
  {
   "cell_type": "code",
   "execution_count": 6,
   "metadata": {},
   "outputs": [
    {
     "name": "stdout",
     "output_type": "stream",
     "text": [
      "It will add two values\n",
      "\n",
      "Enter the first value: 5\n",
      "Enter the second value: 8\n",
      "The sum is  -3\n"
     ]
    }
   ],
   "source": [
    "# lambda function\n",
    "\n",
    "l = lambda x,y : x+y if x<y else x-y\n",
    "\n",
    "print(\"It will add two values\")\n",
    "print()\n",
    "x = int(input(\"Enter the first value: \"))\n",
    "y = int(input(\"Enter the second value: \"))\n",
    "print(\"The sum is \", l(x,y))"
   ]
  },
  {
   "cell_type": "markdown",
   "metadata": {},
   "source": [
    "#### String operator\n",
    "\n",
    "1. '+' -> concate \n",
    "2. '*' -> repeat\n",
    "3. [] -> slice the string\n",
    "4. [:] -> slice in the range\n",
    "5. in -> return True is the character exists\n",
    "6. not in -> return true if the character not exists\n",
    "7. % ->  string formatting \n",
    "8. r/R -> Raw string, without changing any format"
   ]
  },
  {
   "cell_type": "code",
   "execution_count": 30,
   "metadata": {},
   "outputs": [
    {
     "name": "stdout",
     "output_type": "stream",
     "text": [
      "Hello, How are you today?\n",
      "Hello, Hello, \n",
      ",\n",
      "llo,\n",
      "False\n",
      "True\n",
      "Hello, \n",
      "How \n",
      "Hello, \\nHow \n",
      "This is the various type of string format Hello, \n",
      "This is the various type of string format Hello, \n",
      "This is the various type of string format Hello,  and How \n",
      "This is the various type of string format 7\n",
      "This is the various type of string format 7.000000\n",
      "This is the various type of string format 7.00\n",
      "This is the various type of string format (?, ?) ('Hello, ', 'How ')\n"
     ]
    }
   ],
   "source": [
    "s1 = \"Hello, \"\n",
    "s2 = \"How \"\n",
    "s3 = \"are \"\n",
    "s4 = \"you today\"\n",
    "s5 = '?'\n",
    "i1 = 7\n",
    "s6 = s1 + s2 + s3 + s4 + s5\n",
    "print(s6)\n",
    "s7 = s1 * 2\n",
    "print(s7)\n",
    "s8 = s1[5]\n",
    "print (s8)\n",
    "s9 = s1[2:6]\n",
    "print(s9)\n",
    "s10 = '!' in s1\n",
    "print(s10)\n",
    "s11 = '!' not in s1\n",
    "print(s11)\n",
    "print (s1 + '\\n' + s2)\n",
    "print (s1 + r'\\n' + s2)\n",
    "\n",
    "print (\"This is the various type of string format {}\".format(s1))\n",
    "print (\"This is the various type of string format %s\" %s1)\n",
    "print (\"This is the various type of string format %s and %s\" %(s1,s2))\n",
    "print (\"This is the various type of string format %d\" %i1)\n",
    "print (\"This is the various type of string format %f\" %i1)\n",
    "print (\"This is the various type of string format %0.2f\" %i1)\n",
    "print (\"This is the various type of string format (?, ?)\",(s1,s2))\n",
    "\n"
   ]
  },
  {
   "cell_type": "markdown",
   "metadata": {},
   "source": [
    "#### String Built In function\n",
    "    \n",
    "    1. s.capitalize() -> convert the string first character to the upper case\n",
    "    2. s.lower() -> convert the string to lower case\n",
    "    3. s.upper() -> convert the string to upper case\n",
    "    4. s.isspace() -> it will return True if the string contains only space\n",
    "    5. s.islower() -> it will return True is all the character in the string are in lower letter\n",
    "    6. s.center(width, charater) -> It will take two arguments width (total characters) and character to be filled. if the width is greater than the sting length, the missing length will be added by character \n",
    "    7. s.count(\"\") -> it will count how many times sub string is repeated in a string\n",
    "        a. s.count(\"\",beg=0,end=len(string)) -> it will count the sub string occurrence in a given length.\n",
    "    8. s.endswith(\"\") -> check if the string ends with the given sub string\n",
    "    9. s.find(\"\") -> check if the string contains the given sub string or character, -1 if there is no sub-string.\n",
    "    10. s.index(\"\") -> it's same as find but will return the exception if the sub string is not find.\n",
    "    11. s.title() -> return the string with the first letter capital.\n",
    "    12. s.istitle() -> return True if the first letter of the word is capital.\n",
    "    13. s.replace(\"oldstring\",\"newstring\",max) -> replace the character in the string, max is used to replace at max amount\n",
    "    14. s.split(\"\",max) -> it will split the string based on the sub string, max define maximum amount of time to split\n",
    "    15. s.rstrip('str') -> it will remove the tailing character space is the default.\n",
    "    16. s.strip() -> return the trimed version of the string.\n",
    "    "
   ]
  },
  {
   "cell_type": "code",
   "execution_count": 14,
   "metadata": {},
   "outputs": [
    {
     "name": "stdout",
     "output_type": "stream",
     "text": [
      "Are you?\n",
      "ARE YOU?\n",
      "hello,     \n",
      "True\n",
      "True\n",
      "Hello,     \n",
      "2\n",
      "True\n",
      "2\n",
      "Are You?\n",
      "True\n",
      "Hell*,     How are you?\n",
      "Hell*,     H*w are y*u?\n",
      "['Hello,', '', '', '', '', 'How', 'are', 'you?', '']\n",
      "Hello rstrip Hello, Thank you\n"
     ]
    }
   ],
   "source": [
    "s1 = \"Hello,     \"\n",
    "s2 = \"How \"\n",
    "s3 = \"are you?\"\n",
    "s4 = \" \"\n",
    "\n",
    "\n",
    "s5 = s3.capitalize()\n",
    "print (s5)\n",
    "s6 = s3.upper()\n",
    "print(s6)\n",
    "s7 = s1.lower()\n",
    "print(s7)\n",
    "s8 = s4.isspace()\n",
    "print(s8)\n",
    "s9 = s3.islower()\n",
    "print(s9)\n",
    "s10 = s1.center(11,'*')\n",
    "print(s10)\n",
    "s11 = (s1+s2).count(\"H\")\n",
    "print(s11)\n",
    "s12 = (s1+s2+s3).endswith(\"?\")\n",
    "print(s12)\n",
    "s13 = s1.find('l')\n",
    "print(s13)\n",
    "s14 = s3.title()\n",
    "print(s14)\n",
    "s15 = s1.istitle()\n",
    "print(s15)\n",
    "s16 = (s1+s2+s3).replace(\"o\",'*',1)\n",
    "print(s16)\n",
    "s17 = (s1+s2+s3).replace(\"o\",'*')\n",
    "print(s17)\n",
    "s18 = (s1+s2+s3+s4).split(\" \")\n",
    "print(s18)\n",
    "s19 = (s1).rstrip()\n",
    "print(\"Hello rstrip\",s19,\"Thank you\")"
   ]
  },
  {
   "cell_type": "markdown",
   "metadata": {},
   "source": [
    "#### Data Structure \n",
    "\n",
    "1. list[] - mutable (can add|del)\n",
    "2. tuple() - immutable ( cant add|del)\n",
    "3. dictionary{key:value} - mutuable (can add|del)"
   ]
  },
  {
   "cell_type": "markdown",
   "metadata": {},
   "source": [
    "#### list built in funtion\n",
    "\n",
    "1. l.pop() - 1 optional argument | it will remove a list item at a particular position or the last one by default.\n",
    "2. l.append() - 1 exact argument | it will add a list item at the end of the list.\n",
    "3. l.insert() - 2 argument | it will add a list item at a given particular position.\n",
    "4. l.remove() - 1 argument | it will remove the first available item in the list.\n",
    "5. l.len() - return the length of the list\n",
    "6. l.count() - return the number of occurence in the tuple"
   ]
  },
  {
   "cell_type": "code",
   "execution_count": 25,
   "metadata": {},
   "outputs": [
    {
     "name": "stdout",
     "output_type": "stream",
     "text": [
      "['Hello', 'How', 'are', 'you']\n",
      "['Hello', 'How', 'are']\n",
      "['Hello', 'are']\n",
      "['?', 'Long time no see']\n",
      "[['Hello', 'are'], '?', 'Long time no see']\n",
      "['Hello', ['Hello', 'are'], '?', 'Long time no see']\n",
      "['Hello', ['Hello', 'are'], '?', 'Long time no see', 'Hello']\n",
      "2\n",
      "[['Hello', 'are'], '?', 'Long time no see', 'Hello']\n",
      "4\n",
      "Help on list object:\n",
      "\n",
      "class list(object)\n",
      " |  list() -> new empty list\n",
      " |  list(iterable) -> new list initialized from iterable's items\n",
      " |  \n",
      " |  Methods defined here:\n",
      " |  \n",
      " |  __add__(self, value, /)\n",
      " |      Return self+value.\n",
      " |  \n",
      " |  __contains__(self, key, /)\n",
      " |      Return key in self.\n",
      " |  \n",
      " |  __delitem__(self, key, /)\n",
      " |      Delete self[key].\n",
      " |  \n",
      " |  __eq__(self, value, /)\n",
      " |      Return self==value.\n",
      " |  \n",
      " |  __ge__(self, value, /)\n",
      " |      Return self>=value.\n",
      " |  \n",
      " |  __getattribute__(self, name, /)\n",
      " |      Return getattr(self, name).\n",
      " |  \n",
      " |  __getitem__(...)\n",
      " |      x.__getitem__(y) <==> x[y]\n",
      " |  \n",
      " |  __gt__(self, value, /)\n",
      " |      Return self>value.\n",
      " |  \n",
      " |  __iadd__(self, value, /)\n",
      " |      Implement self+=value.\n",
      " |  \n",
      " |  __imul__(self, value, /)\n",
      " |      Implement self*=value.\n",
      " |  \n",
      " |  __init__(self, /, *args, **kwargs)\n",
      " |      Initialize self.  See help(type(self)) for accurate signature.\n",
      " |  \n",
      " |  __iter__(self, /)\n",
      " |      Implement iter(self).\n",
      " |  \n",
      " |  __le__(self, value, /)\n",
      " |      Return self<=value.\n",
      " |  \n",
      " |  __len__(self, /)\n",
      " |      Return len(self).\n",
      " |  \n",
      " |  __lt__(self, value, /)\n",
      " |      Return self<value.\n",
      " |  \n",
      " |  __mul__(self, value, /)\n",
      " |      Return self*value.\n",
      " |  \n",
      " |  __ne__(self, value, /)\n",
      " |      Return self!=value.\n",
      " |  \n",
      " |  __new__(*args, **kwargs) from builtins.type\n",
      " |      Create and return a new object.  See help(type) for accurate signature.\n",
      " |  \n",
      " |  __repr__(self, /)\n",
      " |      Return repr(self).\n",
      " |  \n",
      " |  __reversed__(...)\n",
      " |      L.__reversed__() -- return a reverse iterator over the list\n",
      " |  \n",
      " |  __rmul__(self, value, /)\n",
      " |      Return value*self.\n",
      " |  \n",
      " |  __setitem__(self, key, value, /)\n",
      " |      Set self[key] to value.\n",
      " |  \n",
      " |  __sizeof__(...)\n",
      " |      L.__sizeof__() -- size of L in memory, in bytes\n",
      " |  \n",
      " |  append(...)\n",
      " |      L.append(object) -> None -- append object to end\n",
      " |  \n",
      " |  clear(...)\n",
      " |      L.clear() -> None -- remove all items from L\n",
      " |  \n",
      " |  copy(...)\n",
      " |      L.copy() -> list -- a shallow copy of L\n",
      " |  \n",
      " |  count(...)\n",
      " |      L.count(value) -> integer -- return number of occurrences of value\n",
      " |  \n",
      " |  extend(...)\n",
      " |      L.extend(iterable) -> None -- extend list by appending elements from the iterable\n",
      " |  \n",
      " |  index(...)\n",
      " |      L.index(value, [start, [stop]]) -> integer -- return first index of value.\n",
      " |      Raises ValueError if the value is not present.\n",
      " |  \n",
      " |  insert(...)\n",
      " |      L.insert(index, object) -- insert object before index\n",
      " |  \n",
      " |  pop(...)\n",
      " |      L.pop([index]) -> item -- remove and return item at index (default last).\n",
      " |      Raises IndexError if list is empty or index is out of range.\n",
      " |  \n",
      " |  remove(...)\n",
      " |      L.remove(value) -> None -- remove first occurrence of value.\n",
      " |      Raises ValueError if the value is not present.\n",
      " |  \n",
      " |  reverse(...)\n",
      " |      L.reverse() -- reverse *IN PLACE*\n",
      " |  \n",
      " |  sort(...)\n",
      " |      L.sort(key=None, reverse=False) -> None -- stable sort *IN PLACE*\n",
      " |  \n",
      " |  ----------------------------------------------------------------------\n",
      " |  Data and other attributes defined here:\n",
      " |  \n",
      " |  __hash__ = None\n",
      "\n"
     ]
    }
   ],
   "source": [
    "l1 = [\"Hello\",\"How\",\"are\",\"you\"]\n",
    "l2 = [\"?\"]\n",
    "l3 = [\"How is \",\"all going ?\"]\n",
    "l4 = l1 + l2 + l3\n",
    "\n",
    "print(l1)\n",
    "l1.pop()\n",
    "print(l1)\n",
    "l1.pop(1)\n",
    "print(l1)\n",
    "\n",
    "l2.append(\"Long time no see\")\n",
    "print(l2)\n",
    "\n",
    "l2.insert(0,l1) # insert complete list as an item\n",
    "print(l2)\n",
    "\n",
    "l2.insert(0,l1[0]) # inssert one item from the list\n",
    "print(l2)\n",
    "\n",
    "l2.insert(5,l1[0]) # duplicating the item for remove function\n",
    "print(l2)\n",
    "\n",
    "print(l2.count(\"Hello\"))\n",
    "\n",
    "l2.remove(\"Hello\")\n",
    "print(l2)\n",
    "\n",
    "print(len(l2))\n",
    "\n",
    "help(l1) # show the available list function"
   ]
  },
  {
   "cell_type": "markdown",
   "metadata": {},
   "source": [
    "#### advance single line usage"
   ]
  },
  {
   "cell_type": "code",
   "execution_count": 108,
   "metadata": {},
   "outputs": [
    {
     "name": "stdout",
     "output_type": "stream",
     "text": [
      "[0, 1, 2, 3]\n"
     ]
    }
   ],
   "source": [
    "x = 5\n",
    "\n",
    "j = [ (i - 1) for i in range(0,5) if i > 0]\n",
    "print (j)"
   ]
  },
  {
   "cell_type": "markdown",
   "metadata": {},
   "source": [
    "#### tuple function\n",
    "\n",
    "1. t.len() - return the length\n",
    "2. t.count() - return the no of occurence of a tuple\n",
    "3. t.index() - return first index of value. Raises ValueError if the value is not present.\n"
   ]
  },
  {
   "cell_type": "code",
   "execution_count": null,
   "metadata": {},
   "outputs": [],
   "source": []
  },
  {
   "cell_type": "code",
   "execution_count": 30,
   "metadata": {},
   "outputs": [
    {
     "name": "stdout",
     "output_type": "stream",
     "text": [
      "4\n",
      "3\n",
      "('Hello', 'How', 'Hello', 'Hello', \"How's\", \" all going'\")\n",
      "1\n",
      "Help on tuple object:\n",
      "\n",
      "class tuple(object)\n",
      " |  tuple() -> empty tuple\n",
      " |  tuple(iterable) -> tuple initialized from iterable's items\n",
      " |  \n",
      " |  If the argument is a tuple, the return value is the same object.\n",
      " |  \n",
      " |  Methods defined here:\n",
      " |  \n",
      " |  __add__(self, value, /)\n",
      " |      Return self+value.\n",
      " |  \n",
      " |  __contains__(self, key, /)\n",
      " |      Return key in self.\n",
      " |  \n",
      " |  __eq__(self, value, /)\n",
      " |      Return self==value.\n",
      " |  \n",
      " |  __ge__(self, value, /)\n",
      " |      Return self>=value.\n",
      " |  \n",
      " |  __getattribute__(self, name, /)\n",
      " |      Return getattr(self, name).\n",
      " |  \n",
      " |  __getitem__(self, key, /)\n",
      " |      Return self[key].\n",
      " |  \n",
      " |  __getnewargs__(...)\n",
      " |  \n",
      " |  __gt__(self, value, /)\n",
      " |      Return self>value.\n",
      " |  \n",
      " |  __hash__(self, /)\n",
      " |      Return hash(self).\n",
      " |  \n",
      " |  __iter__(self, /)\n",
      " |      Implement iter(self).\n",
      " |  \n",
      " |  __le__(self, value, /)\n",
      " |      Return self<=value.\n",
      " |  \n",
      " |  __len__(self, /)\n",
      " |      Return len(self).\n",
      " |  \n",
      " |  __lt__(self, value, /)\n",
      " |      Return self<value.\n",
      " |  \n",
      " |  __mul__(self, value, /)\n",
      " |      Return self*value.\n",
      " |  \n",
      " |  __ne__(self, value, /)\n",
      " |      Return self!=value.\n",
      " |  \n",
      " |  __new__(*args, **kwargs) from builtins.type\n",
      " |      Create and return a new object.  See help(type) for accurate signature.\n",
      " |  \n",
      " |  __repr__(self, /)\n",
      " |      Return repr(self).\n",
      " |  \n",
      " |  __rmul__(self, value, /)\n",
      " |      Return value*self.\n",
      " |  \n",
      " |  count(...)\n",
      " |      T.count(value) -> integer -- return number of occurrences of value\n",
      " |  \n",
      " |  index(...)\n",
      " |      T.index(value, [start, [stop]]) -> integer -- return first index of value.\n",
      " |      Raises ValueError if the value is not present.\n",
      "\n"
     ]
    }
   ],
   "source": [
    "t1 = (\"Hello\",\"How\",\"Hello\",\"Hello\")\n",
    "t2 = (\"How\\'s\",\" all going'\")\n",
    "\n",
    "print(len(t1))\n",
    "print(t1.count(\"Hello\"))\n",
    "\n",
    "t3 = t1 + t2 \n",
    "print(t3)\n",
    "\n",
    "print(t3.index(\"How\"))\n",
    "\n",
    "help(t1)\n"
   ]
  },
  {
   "cell_type": "markdown",
   "metadata": {},
   "source": [
    "#### dictionary function\n",
    "\n",
    "1. del d[k] - delete a particular key\n",
    "2. del d - delete entire dictionary\n",
    "3. d.clear() - empty the dictionary\n",
    "4. d.copy() - copy the dictionary to the new one\n",
    "5. d.get(k) - get the value of the key\n",
    "6. d.pop(k) - return the value of the passed key or else error\n",
    "7. d.popitem() - return the tuple of the item deleted.\n",
    "8. d[k] = v - add new item in the dictionary \n"
   ]
  },
  {
   "cell_type": "code",
   "execution_count": 18,
   "metadata": {},
   "outputs": [
    {
     "name": "stdout",
     "output_type": "stream",
     "text": [
      "{'Name': 'EmpId', 'Dhairya': 2023, 'Kalyan': 2026, 'Faisal': 40215}\n",
      "2023\n",
      "2023\n",
      "{'Name': 'EmpId', 'Faisal': 40215}\n",
      "popitem:  ('Faisal', 40215)\n",
      "{'Name': 'EmpId', 'Faisal': 40215}\n",
      "{'Name': 'EmpId', 'Dhairya': 2023, 'Kalyan': 2026}\n",
      "{}\n",
      "{'Name': 'EmpId', 'Dhairya': 2023, 'Kalyan': 2026}\n",
      "2023\n",
      "{'Biju': 9056, 'Dhairya': 2023}\n",
      "Help on dict object:\n",
      "\n",
      "class dict(object)\n",
      " |  dict() -> new empty dictionary\n",
      " |  dict(mapping) -> new dictionary initialized from a mapping object's\n",
      " |      (key, value) pairs\n",
      " |  dict(iterable) -> new dictionary initialized as if via:\n",
      " |      d = {}\n",
      " |      for k, v in iterable:\n",
      " |          d[k] = v\n",
      " |  dict(**kwargs) -> new dictionary initialized with the name=value pairs\n",
      " |      in the keyword argument list.  For example:  dict(one=1, two=2)\n",
      " |  \n",
      " |  Methods defined here:\n",
      " |  \n",
      " |  __contains__(self, key, /)\n",
      " |      True if D has a key k, else False.\n",
      " |  \n",
      " |  __delitem__(self, key, /)\n",
      " |      Delete self[key].\n",
      " |  \n",
      " |  __eq__(self, value, /)\n",
      " |      Return self==value.\n",
      " |  \n",
      " |  __ge__(self, value, /)\n",
      " |      Return self>=value.\n",
      " |  \n",
      " |  __getattribute__(self, name, /)\n",
      " |      Return getattr(self, name).\n",
      " |  \n",
      " |  __getitem__(...)\n",
      " |      x.__getitem__(y) <==> x[y]\n",
      " |  \n",
      " |  __gt__(self, value, /)\n",
      " |      Return self>value.\n",
      " |  \n",
      " |  __init__(self, /, *args, **kwargs)\n",
      " |      Initialize self.  See help(type(self)) for accurate signature.\n",
      " |  \n",
      " |  __iter__(self, /)\n",
      " |      Implement iter(self).\n",
      " |  \n",
      " |  __le__(self, value, /)\n",
      " |      Return self<=value.\n",
      " |  \n",
      " |  __len__(self, /)\n",
      " |      Return len(self).\n",
      " |  \n",
      " |  __lt__(self, value, /)\n",
      " |      Return self<value.\n",
      " |  \n",
      " |  __ne__(self, value, /)\n",
      " |      Return self!=value.\n",
      " |  \n",
      " |  __new__(*args, **kwargs) from builtins.type\n",
      " |      Create and return a new object.  See help(type) for accurate signature.\n",
      " |  \n",
      " |  __repr__(self, /)\n",
      " |      Return repr(self).\n",
      " |  \n",
      " |  __setitem__(self, key, value, /)\n",
      " |      Set self[key] to value.\n",
      " |  \n",
      " |  __sizeof__(...)\n",
      " |      D.__sizeof__() -> size of D in memory, in bytes\n",
      " |  \n",
      " |  clear(...)\n",
      " |      D.clear() -> None.  Remove all items from D.\n",
      " |  \n",
      " |  copy(...)\n",
      " |      D.copy() -> a shallow copy of D\n",
      " |  \n",
      " |  fromkeys(iterable, value=None, /) from builtins.type\n",
      " |      Returns a new dict with keys from iterable and values equal to value.\n",
      " |  \n",
      " |  get(...)\n",
      " |      D.get(k[,d]) -> D[k] if k in D, else d.  d defaults to None.\n",
      " |  \n",
      " |  items(...)\n",
      " |      D.items() -> a set-like object providing a view on D's items\n",
      " |  \n",
      " |  keys(...)\n",
      " |      D.keys() -> a set-like object providing a view on D's keys\n",
      " |  \n",
      " |  pop(...)\n",
      " |      D.pop(k[,d]) -> v, remove specified key and return the corresponding value.\n",
      " |      If key is not found, d is returned if given, otherwise KeyError is raised\n",
      " |  \n",
      " |  popitem(...)\n",
      " |      D.popitem() -> (k, v), remove and return some (key, value) pair as a\n",
      " |      2-tuple; but raise KeyError if D is empty.\n",
      " |  \n",
      " |  setdefault(...)\n",
      " |      D.setdefault(k[,d]) -> D.get(k,d), also set D[k]=d if k not in D\n",
      " |  \n",
      " |  update(...)\n",
      " |      D.update([E, ]**F) -> None.  Update D from dict/iterable E and F.\n",
      " |      If E is present and has a .keys() method, then does:  for k in E: D[k] = E[k]\n",
      " |      If E is present and lacks a .keys() method, then does:  for k, v in E: D[k] = v\n",
      " |      In either case, this is followed by: for k in F:  D[k] = F[k]\n",
      " |  \n",
      " |  values(...)\n",
      " |      D.values() -> an object providing a view on D's values\n",
      " |  \n",
      " |  ----------------------------------------------------------------------\n",
      " |  Data and other attributes defined here:\n",
      " |  \n",
      " |  __hash__ = None\n",
      "\n"
     ]
    }
   ],
   "source": [
    "d1 = {'Name':'EmpId','Dhairya':2023,'Kalyan':2026, 'Faisal':40215}\n",
    "d = d1\n",
    "d2 = d1\n",
    "d3 = d2.copy()\n",
    "\n",
    "\n",
    "print(d1)\n",
    "print(d1['Dhairya'])\n",
    "\n",
    "print(d1.pop('Dhairya'))\n",
    "\n",
    "\n",
    "del d1['Kalyan']\n",
    "print(d1)\n",
    "\n",
    "del d1\n",
    "\n",
    "print(\"popitem: \", d3.popitem())\n",
    "\n",
    "print(d2)\n",
    "print(d3)\n",
    "d2.clear()\n",
    "print(d2)\n",
    "print(d3)\n",
    "\n",
    "print(d3.get('Dhairya'))\n",
    "\n",
    "d3 = {'Biju':9056} # if exist overwrite the dictionary and create the new one\n",
    "d3['Dhairya'] = 2023\n",
    "print(d3)\n",
    "\n",
    "help(d)"
   ]
  }
 ],
 "metadata": {
  "kernelspec": {
   "display_name": "Python 3",
   "language": "python",
   "name": "python3"
  },
  "language_info": {
   "codemirror_mode": {
    "name": "ipython",
    "version": 3
   },
   "file_extension": ".py",
   "mimetype": "text/x-python",
   "name": "python",
   "nbconvert_exporter": "python",
   "pygments_lexer": "ipython3",
   "version": "3.6.7"
  }
 },
 "nbformat": 4,
 "nbformat_minor": 2
}
