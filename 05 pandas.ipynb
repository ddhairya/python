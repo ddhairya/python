{
 "cells": [
  {
   "cell_type": "markdown",
   "metadata": {},
   "source": [
    "### panda\n",
    "\n",
    "This module is mainly used for data science and visualization. Loading data from excel file and analyzing that data\n",
    "\n",
    "#### function\n",
    "1. DataFrame() - it will take number of argument and return the data structure\n",
    "2. df.mean() -  it will return the mean of the series or DF\n",
    "3. df.min|max|avg() - it will min, max or avg of the  series or DF\n",
    "4. read_csv(\"file\", header = True, sep = \",\") - it will read the csv file, header is true and separator is , by default.\n",
    "5. df.set_index(\"columnName\") - it will set the defined column as index\n",
    "6. df.shape() - it will give the shape of the DF, no of rows and columns\n",
    "7. read_json(\"filename|path\") - it will read the json file.\n",
    "8. read_excel(\"filename|path\", sheetname = 0) - it will read the excel file and first sheet in it\n",
    "9. df.loc[\"row value range\":\"column value range\"] - it will slice the DF based on the name values\n",
    "10. df.iloc[\"row number range\":\"column number range\"] - it will slice the DF based on the number\n",
    "11. df.ix[\"row_range\":\"column_range\"] - it will allow the mixture of numbers and names to slice the DF\n",
    "12. df.drop(\"name\", 1|0) - it will delete the row or column based on 0 or 1 respectively.\n",
    "13. df.index[\"row_number_range\"] -  it will select the particular row range number from DF.\n",
    "14. df.columns[\"column_number\"] - it will select the particular column.\n",
    "15. df.T - it will transpose the DF. \n",
    "16. df[\"column_name\"].apply(method) - it will let you apply any method on a particular column iterative ."
   ]
  },
  {
   "cell_type": "code",
   "execution_count": 15,
   "metadata": {},
   "outputs": [
    {
     "name": "stdout",
     "output_type": "stream",
     "text": [
      "         0      1\n",
      "0  dhairya   6250\n",
      "1     raju   8500\n",
      "2   kalyan  15000\n",
      "      Name  Salary\n",
      "0  dhairya    6250\n",
      "1     raju    8500\n",
      "2   kalyan   15000\n",
      "      Name  Salary\n",
      "1  dhairya    6250\n",
      "2     raju    8500\n",
      "3   kalyan   15000\n",
      "      Name  Salary\n",
      "1  dhairya  6250.0\n",
      "2     raju  8500.0\n",
      "3   kalyan     NaN\n",
      "Mean Salary    9916.666667\n",
      "dtype: float64\n",
      "Mean 9916.666666666666\n"
     ]
    }
   ],
   "source": [
    "import pandas\n",
    "\n",
    "df1 = pandas.DataFrame([['dhairya',6250],['raju',8500],['kalyan',15000]])\n",
    "print(df1)\n",
    "\n",
    "df2 = pandas.DataFrame([['dhairya',6250],['raju',8500],['kalyan',15000]], columns=[\"Name\",\"Salary\"])\n",
    "print(df2)\n",
    "\n",
    "df3 = pandas.DataFrame([['dhairya',6250],['raju',8500],['kalyan',15000]], columns=[\"Name\",\"Salary\"], index=[1,2,3])\n",
    "print(df3)\n",
    "\n",
    "df4 = pandas.DataFrame([['dhairya',6250],['raju',8500],['kalyan']], columns=[\"Name\",\"Salary\"], index=[1,2,3])\n",
    "print(df4)\n",
    "\n",
    "x1 = df3.mean()\n",
    "print(\"Mean %s\" %x1)\n",
    "\n",
    "x2 = df3.Salary.mean()\n",
    "print(\"Mean {}\". format(x2))"
   ]
  },
  {
   "cell_type": "code",
   "execution_count": 21,
   "metadata": {},
   "outputs": [
    {
     "name": "stdout",
     "output_type": "stream",
     "text": [
      "   id       name  age  weight  gender\n",
      "0   1       biju   40      75    male\n",
      "1   2     shrini   35      80    male\n",
      "2   3      murli   27      60    male\n",
      "3   4  shreenath   33      70    male\n",
      "4   5    dhairya   27      74    male\n",
      "5   6       kate   30      55  female\n",
      "    0          1    2       3       4\n",
      "0  id       name  age  weight  gender\n",
      "1   1       biju   40      75    male\n",
      "2   2     shrini   35      80    male\n",
      "3   3      murli   27      60    male\n",
      "4   4  shreenath   33      70    male\n",
      "5   5    dhairya   27      74    male\n",
      "6   6       kate   30      55  female\n",
      "         name  age  weight  gender\n",
      "id                                \n",
      "1        biju   40      75    male\n",
      "2      shrini   35      80    male\n",
      "3       murli   27      60    male\n",
      "4   shreenath   33      70    male\n",
      "5     dhairya   27      74    male\n",
      "6        kate   30      55  female\n",
      "(6, 4)\n"
     ]
    }
   ],
   "source": [
    "import pandas as pd\n",
    "\n",
    "df1 = pd.read_csv(\"data.csv\")\n",
    "print(df1)\n",
    "\n",
    "df2 = pd.read_csv(\"data.csv\", header = None)\n",
    "print(df2)\n",
    "\n",
    "df3 = pd.read_csv(\"data.csv\").set_index(\"id\")\n",
    "print(df3)\n",
    "\n",
    "x1 = df3.shape\n",
    "print(x1)"
   ]
  },
  {
   "cell_type": "code",
   "execution_count": 24,
   "metadata": {},
   "outputs": [
    {
     "name": "stdout",
     "output_type": "stream",
     "text": [
      "   dhairya   raj  alex\n",
      "0     2023  4698  9786\n"
     ]
    }
   ],
   "source": [
    "import pandas as pd\n",
    "\n",
    "df1 = pd.read_json(\"pd_data.json\")\n",
    "print(df1)"
   ]
  },
  {
   "cell_type": "code",
   "execution_count": 27,
   "metadata": {},
   "outputs": [
    {
     "name": "stdout",
     "output_type": "stream",
     "text": [
      "         name  age  weight  gender\n",
      "id                                \n",
      "1        biju   40      75    male\n",
      "2      shrini   35      80    male\n",
      "3       murli   27      60    male\n",
      "4   shreenath   33      70    male\n",
      "5     dhairya   27      74    male\n",
      "6        kate   30      55  female\n"
     ]
    }
   ],
   "source": [
    "import pandas as pd\n",
    "\n",
    "df1 = pd.read_excel(\"data.xlsx\", sheet_name = 0).set_index(\"id\")\n",
    "print(df1)"
   ]
  },
  {
   "cell_type": "markdown",
   "metadata": {},
   "source": [
    "#### index and slice"
   ]
  },
  {
   "cell_type": "code",
   "execution_count": 12,
   "metadata": {},
   "outputs": [
    {
     "name": "stdout",
     "output_type": "stream",
     "text": [
      "         name  age  weight  gender\n",
      "id                                \n",
      "1        biju   40      75    male\n",
      "2      shrini   35      80    male\n",
      "3       murli   27      60    male\n",
      "4   shreenath   33      70    male\n",
      "5     dhairya   27      74    male\n",
      "6        kate   30      55  female\n",
      "    age  weight\n",
      "id             \n",
      "2    35      80\n",
      "3    27      60\n",
      "4    33      70\n",
      "5    27      74\n",
      "         name  age  weight  gender\n",
      "id                                \n",
      "2      shrini   35      80    male\n",
      "3       murli   27      60    male\n",
      "4   shreenath   33      70    male\n",
      "5     dhairya   27      74    male\n",
      "6        kate   30      55  female\n",
      "age 27\n",
      "    weight gender\n",
      "id               \n",
      "2       80   male\n",
      "3       60   male\n",
      "         name  age\n",
      "id                \n",
      "1        biju   40\n",
      "2      shrini   35\n",
      "3       murli   27\n",
      "4   shreenath   33\n",
      "5     dhairya   27\n",
      "6        kate   30\n",
      "Int64Index([1, 2, 3], dtype='int64', name='id')\n"
     ]
    },
    {
     "name": "stderr",
     "output_type": "stream",
     "text": [
      "C:\\Anaconda3\\lib\\site-packages\\ipykernel_launcher.py:18: DeprecationWarning: \n",
      ".ix is deprecated. Please use\n",
      ".loc for label based indexing or\n",
      ".iloc for positional indexing\n",
      "\n",
      "See the documentation here:\n",
      "http://pandas.pydata.org/pandas-docs/stable/indexing.html#ix-indexer-is-deprecated\n"
     ]
    }
   ],
   "source": [
    "import pandas as pd\n",
    "\n",
    "df1 = pd.read_csv(\"data.csv\").set_index(\"id\")\n",
    "print(df1)\n",
    "\n",
    "df2 = df1.loc[2:5,\"age\":\"weight\"]\n",
    "print(df2)\n",
    "\n",
    "df3 = df1.loc[2:,:]\n",
    "print(df3)\n",
    "\n",
    "df4 = df1.loc[5,\"age\"]\n",
    "print(\"age %s\" %df4)\n",
    "\n",
    "df5 = df1.iloc[1:3,2:4]\n",
    "print(df5)\n",
    "\n",
    "df6 = df1.ix[1:,\"name\":\"age\"]\n",
    "print(df6)\n",
    "\n",
    "df7 = df1.index[0:3]\n",
    "print(df7)"
   ]
  },
  {
   "cell_type": "markdown",
   "metadata": {},
   "source": [
    "#### deleting"
   ]
  },
  {
   "cell_type": "code",
   "execution_count": 23,
   "metadata": {},
   "outputs": [
    {
     "name": "stdout",
     "output_type": "stream",
     "text": [
      "         name  age  weight  gender\n",
      "id                                \n",
      "1        biju   40      75    male\n",
      "2      shrini   35      80    male\n",
      "3       murli   27      60    male\n",
      "4   shreenath   33      70    male\n",
      "5     dhairya   27      74    male\n",
      "6        kate   30      55  female\n",
      "         name  weight  gender\n",
      "id                           \n",
      "1        biju      75    male\n",
      "2      shrini      80    male\n",
      "3       murli      60    male\n",
      "4   shreenath      70    male\n",
      "5     dhairya      74    male\n",
      "6        kate      55  female\n",
      "         name  age  weight  gender\n",
      "id                                \n",
      "1        biju   40      75    male\n",
      "3       murli   27      60    male\n",
      "4   shreenath   33      70    male\n",
      "5     dhairya   27      74    male\n",
      "6        kate   30      55  female\n",
      "       name  age  weight  gender\n",
      "id                              \n",
      "1      biju   40      75    male\n",
      "2    shrini   35      80    male\n",
      "5   dhairya   27      74    male\n",
      "6      kate   30      55  female\n",
      "         name  age  gender\n",
      "id                        \n",
      "1        biju   40    male\n",
      "2      shrini   35    male\n",
      "3       murli   27    male\n",
      "4   shreenath   33    male\n",
      "5     dhairya   27    male\n",
      "6        kate   30  female\n"
     ]
    }
   ],
   "source": [
    "import pandas as pd\n",
    "\n",
    "df1 = pd.read_csv(\"data.csv\").set_index(\"id\")\n",
    "print(df1)\n",
    "\n",
    "df2 = df1.drop(\"age\",1)\n",
    "print(df2)\n",
    "\n",
    "df3 = df1.drop(2,0)\n",
    "print(df3)\n",
    "\n",
    "df4 = df1.drop(df1.index[2:4],0)\n",
    "print(df4)\n",
    "\n",
    "df5 = df1.drop(df1.columns[2:3],1)\n",
    "print(df5)"
   ]
  },
  {
   "cell_type": "markdown",
   "metadata": {},
   "source": [
    "#### adding or updating"
   ]
  },
  {
   "cell_type": "code",
   "execution_count": 2,
   "metadata": {},
   "outputs": [
    {
     "name": "stdout",
     "output_type": "stream",
     "text": [
      "         name  age  weight  gender\n",
      "id                                \n",
      "1        biju   40      75    male\n",
      "2      shrini   35      80    male\n",
      "3       murli   27      60    male\n",
      "4   shreenath   33      70    male\n",
      "5     dhairya   27      74    male\n",
      "6        kate   30      55  female\n",
      "         name  age  weight  gender   company\n",
      "id                                          \n",
      "1        biju   40      75    male  Al Ahlia\n",
      "2      shrini   35      80    male  Al Ahlia\n",
      "3       murli   27      60    male  Al Ahlia\n",
      "4   shreenath   33      70    male  Al Ahlia\n",
      "5     dhairya   27      74    male  Al Ahlia\n",
      "6        kate   30      55  female  Al Ahlia\n",
      "         name  age  weight  gender                                     company\n",
      "id                                                                            \n",
      "1        biju   40      75    male  Al Ahlia | no shape required for modifying\n",
      "2      shrini   35      80    male  Al Ahlia | no shape required for modifying\n",
      "3       murli   27      60    male  Al Ahlia | no shape required for modifying\n",
      "4   shreenath   33      70    male  Al Ahlia | no shape required for modifying\n",
      "5     dhairya   27      74    male  Al Ahlia | no shape required for modifying\n",
      "6        kate   30      55  female  Al Ahlia | no shape required for modifying\n",
      "id                                                1  \\\n",
      "name                                           biju   \n",
      "age                                              40   \n",
      "weight                                           75   \n",
      "gender                                         male   \n",
      "company  Al Ahlia | no shape required for modifying   \n",
      "\n",
      "id                                                2  \\\n",
      "name                                         shrini   \n",
      "age                                              35   \n",
      "weight                                           80   \n",
      "gender                                         male   \n",
      "company  Al Ahlia | no shape required for modifying   \n",
      "\n",
      "id                                                3  \\\n",
      "name                                          murli   \n",
      "age                                              27   \n",
      "weight                                           60   \n",
      "gender                                         male   \n",
      "company  Al Ahlia | no shape required for modifying   \n",
      "\n",
      "id                                                4  \\\n",
      "name                                      shreenath   \n",
      "age                                              33   \n",
      "weight                                           70   \n",
      "gender                                         male   \n",
      "company  Al Ahlia | no shape required for modifying   \n",
      "\n",
      "id                                                5  \\\n",
      "name                                        dhairya   \n",
      "age                                              27   \n",
      "weight                                           74   \n",
      "gender                                         male   \n",
      "company  Al Ahlia | no shape required for modifying   \n",
      "\n",
      "id                                                6  \n",
      "name                                           kate  \n",
      "age                                              30  \n",
      "weight                                           55  \n",
      "gender                                       female  \n",
      "company  Al Ahlia | no shape required for modifying  \n",
      "id                                                1  \\\n",
      "name                                           biju   \n",
      "age                                              40   \n",
      "weight                                           75   \n",
      "gender                                         male   \n",
      "company  Al Ahlia | no shape required for modifying   \n",
      "\n",
      "id                                                2  \\\n",
      "name                                         shrini   \n",
      "age                                              35   \n",
      "weight                                           80   \n",
      "gender                                         male   \n",
      "company  Al Ahlia | no shape required for modifying   \n",
      "\n",
      "id                                                3  \\\n",
      "name                                          murli   \n",
      "age                                              27   \n",
      "weight                                           60   \n",
      "gender                                         male   \n",
      "company  Al Ahlia | no shape required for modifying   \n",
      "\n",
      "id                                                4  \\\n",
      "name                                      shreenath   \n",
      "age                                              33   \n",
      "weight                                           70   \n",
      "gender                                         male   \n",
      "company  Al Ahlia | no shape required for modifying   \n",
      "\n",
      "id                                                5  \\\n",
      "name                                        dhairya   \n",
      "age                                              27   \n",
      "weight                                           74   \n",
      "gender                                         male   \n",
      "company  Al Ahlia | no shape required for modifying   \n",
      "\n",
      "id                                                6       7  \n",
      "name                                           kate   ridhi  \n",
      "age                                              30      27  \n",
      "weight                                           55      43  \n",
      "gender                                       female  female  \n",
      "company  Al Ahlia | no shape required for modifying      LB  \n",
      "         name age weight  gender                                     company\n",
      "id                                                                          \n",
      "1        biju  40     75    male  Al Ahlia | no shape required for modifying\n",
      "2      shrini  35     80    male  Al Ahlia | no shape required for modifying\n",
      "3       murli  27     60    male  Al Ahlia | no shape required for modifying\n",
      "4   shreenath  33     70    male  Al Ahlia | no shape required for modifying\n",
      "5     dhairya  27     74    male  Al Ahlia | no shape required for modifying\n",
      "6        kate  30     55  female  Al Ahlia | no shape required for modifying\n",
      "7       ridhi  27     43  female                                          LB\n"
     ]
    }
   ],
   "source": [
    "import pandas as pd\n",
    "\n",
    "df1 = pd.read_csv(\"data.csv\").set_index(\"id\")\n",
    "print(df1)\n",
    "\n",
    "df1[\"company\"] = df1.shape[0]*['Al Ahlia']\n",
    "print(df1)\n",
    "\n",
    "df2 = df1\n",
    "df2[\"company\"] = \"Al Ahlia | no shape required for modifying\"\n",
    "print(df2)\n",
    "\n",
    "df3 = df1.T\n",
    "print(df3)\n",
    "df3[7] = ['ridhi',27,43,'female','LB']\n",
    "print(df3)\n",
    "df3 = df3.T\n",
    "print(df3)"
   ]
  },
  {
   "cell_type": "code",
   "execution_count": 38,
   "metadata": {},
   "outputs": [
    {
     "name": "stdout",
     "output_type": "stream",
     "text": [
      "         name  age  weight  gender\n",
      "id                                \n",
      "1        biju   40      75    male\n",
      "2      shrini   35      80    male\n",
      "3       murli   27      60    male\n",
      "4   shreenath   33      70    male\n",
      "5     dhairya   27      74    male\n",
      "6        kate   30      55  female\n",
      "id\n",
      "1    u\n",
      "2    s\n",
      "3    u\n",
      "4    t\n",
      "5    y\n",
      "6    t\n",
      "Name: name, dtype: object\n"
     ]
    }
   ],
   "source": [
    "import pandas as pd\n",
    "\n",
    "df1 = pd.read_csv(\"data.csv\").set_index(\"id\")\n",
    "print(df1)\n",
    "\n",
    "print(df1[\"name\"].apply(max))"
   ]
  },
  {
   "cell_type": "code",
   "execution_count": 19,
   "metadata": {},
   "outputs": [
    {
     "name": "stdout",
     "output_type": "stream",
     "text": [
      "[['biju', 40, 75, 'male'], ['shrini', 35, 80, 'male'], ['murli', 27, 60, 'male'], ['shreenath', 33, 70, 'male'], ['dhairya', 27, 74, 'male'], ['kate', 30, 55, 'female']]\n"
     ]
    }
   ],
   "source": [
    "\"\"\"\n",
    "This will convert a DF into a list of rows\n",
    "\n",
    "\"\"\"\n",
    "\n",
    "import pandas as pd\n",
    "\n",
    "df1 = pd.read_csv(\"data.csv\").set_index(\"id\")\n",
    "df2 = list(df1)\n",
    "\n",
    "l = []\n",
    "for i in range(int(df1.shape[0])):\n",
    "    l.append(list(df1.loc[i+1,:]))\n",
    "    \n",
    "print(l)"
   ]
  },
  {
   "cell_type": "code",
   "execution_count": null,
   "metadata": {},
   "outputs": [],
   "source": []
  }
 ],
 "metadata": {
  "kernelspec": {
   "display_name": "Python 3",
   "language": "python",
   "name": "python3"
  },
  "language_info": {
   "codemirror_mode": {
    "name": "ipython",
    "version": 3
   },
   "file_extension": ".py",
   "mimetype": "text/x-python",
   "name": "python",
   "nbconvert_exporter": "python",
   "pygments_lexer": "ipython3",
   "version": "3.6.7"
  }
 },
 "nbformat": 4,
 "nbformat_minor": 2
}
