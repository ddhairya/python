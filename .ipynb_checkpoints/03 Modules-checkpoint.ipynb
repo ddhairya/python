{
 "cells": [
  {
   "cell_type": "markdown",
   "metadata": {},
   "source": [
    "### Module\n",
    "\n",
    "Python gives a variety of modules, they are nothing but python files.\n",
    "\n",
    "    1. OS\n",
    "    2. glob2\n",
    "    3. time\n",
    "    4. calendar\n",
    "    5. datetime\n",
    "    6. difflib\n",
    "    7. pandas\n"
   ]
  },
  {
   "cell_type": "markdown",
   "metadata": {},
   "source": [
    "## OS\n",
    "\n",
    "OS module is mainly for working with operating system\n",
    "\n",
    "#### function\n",
    "\n",
    "1. os.__file__ - it will give the path of the module\n",
    "2. os.listdir() - it will give the list of files and folders in current directory including the temp\n",
    "3. os.mkdir(\"folder\") - it will make a new directory/folder. Pass the folder name as an argument\n",
    "4. os.rmdir(\"folder\") - it will remove the directory/folder. Pass the folder name as an argument\n",
    "5. os.chdir(\"/\") - it will change the current working directory. Pass the path or folder as an argument.\n",
    "6. os.rename(\"currentName\",\"newName\") - it will rename the existing file or folder.\n",
    "7. os.remove(\"fileName\") - it will remove the file name.\n",
    "8. os.path.exists(\"\") - it will check if the path or folder exists to avoid errors\n",
    "9. os.getcwd() - it will give the current working directory"
   ]
  },
  {
   "cell_type": "code",
   "execution_count": 35,
   "metadata": {},
   "outputs": [
    {
     "name": "stdout",
     "output_type": "stream",
     "text": [
      "['.git', '.ipynb_checkpoints', '01 Basic of Python.ipynb', '02 File Handling.ipynb', '03 Modules.ipynb', 'example.txt', 'example_w.txt', 'README.md']\n",
      "['.git', '.ipynb_checkpoints', '01 Basic of Python.ipynb', '02 File Handling.ipynb', '03 Modules.ipynb', 'example.txt', 'example_w.txt', 'README.md', 'Test', 'Test2']\n",
      "['.git', '.ipynb_checkpoints', '01 Basic of Python.ipynb', '02 File Handling.ipynb', '03 Modules.ipynb', 'example.txt', 'example_w.txt', 'README.md', 'Test2']\n",
      "['$Recycle.Bin', 'Anaconda3', 'bootmgr', 'BOOTNXT', 'bootTel.dat', 'cfrbackup-IGTVTNLF', 'cygwin64', 'Driver', 'Drivers', 'found.001', 'found.002', 'found.003', 'iDEFENSE', 'Intel', 'logs', 'Microsoft', 'msdia80.dll', 'pagefile.sys', 'PerfLogs', 'Program Files', 'Program Files (x86)', 'ProgramData', 'Qt', 'Recovery', 'SQLServer2017Media', 'swapfile.sys', 'System Volume Information', 'temp', 'Test', 'Test2', 'Users', 'Windows', 'xampp']\n",
      "['.git', '.ipynb_checkpoints', '01 Basic of Python.ipynb', '02 File Handling.ipynb', '03 Modules.ipynb', 'example.txt', 'example_w.txt', 'README.md', 'Test2']\n",
      "['.git', '.ipynb_checkpoints', '01 Basic of Python.ipynb', '02 File Handling.ipynb', '03 Modules.ipynb', 'example.txt', 'example_w.txt', 'README.md', 'TestNew']\n",
      "['.git', '.ipynb_checkpoints', '01 Basic of Python.ipynb', '02 File Handling.ipynb', '03 Modules.ipynb', 'example.txt', 'example_w.txt', 'README.md', 'sampleRemove.txt', 'TestNew']\n",
      "['.git', '.ipynb_checkpoints', '01 Basic of Python.ipynb', '02 File Handling.ipynb', '03 Modules.ipynb', 'example.txt', 'example_w.txt', 'README.md', 'TestNew']\n",
      "File is already been removed\n",
      "C:\\Users\\User\\Google Drive\\Project\\Python\\Untitled Folder\n",
      "['.git', '.ipynb_checkpoints', '01 Basic of Python.ipynb', '02 File Handling.ipynb', '03 Modules.ipynb', 'example.txt', 'example_w.txt', 'README.md']\n"
     ]
    }
   ],
   "source": [
    "import os\n",
    "\n",
    "os1 = os.listdir()\n",
    "print(os1)\n",
    "\n",
    "os.mkdir(\"Test\")\n",
    "os.mkdir(\"Test2\")\n",
    "os2 = os.listdir()\n",
    "print(os2)\n",
    "\n",
    "os.rmdir(\"Test\")\n",
    "os3 = os.listdir()\n",
    "print(os3)\n",
    "\n",
    "os.chdir(\"/\")\n",
    "os4 = os.listdir()\n",
    "print(os4)\n",
    "\n",
    "os.chdir(\"C:/Users/User/Google Drive/Project/Python/Untitled Folder\")\n",
    "os5 = os.listdir()\n",
    "print(os5)\n",
    "\n",
    "os.rename(\"Test2\",\"TestNew\")\n",
    "os6 = os.listdir()\n",
    "print(os6)\n",
    "\n",
    "with open(\"sampleRemove.txt\",\"w+\") as file:\n",
    "    content = file.read()\n",
    "os7 = os.listdir()\n",
    "print(os7)\n",
    "os.remove(\"sampleRemove.txt\")\n",
    "os8 = os.listdir()\n",
    "print(os8)\n",
    "\n",
    "if os.path.exists(\"Remove.txt\"):\n",
    "    os.remove(\"Remove.txt\")\n",
    "else:\n",
    "    print(\"File is already been removed\")\n",
    "    \n",
    "os9 = os.getcwd()\n",
    "print(os9)   0.10000 \n",
    "\n",
    "os.rmdir(\"TestNew\")\n",
    "os10 = os.listdir()\n",
    "print(os10)"
   ]
  },
  {
   "cell_type": "markdown",
   "metadata": {},
   "source": [
    "## glob2\n",
    "\n",
    "\n",
    "\n",
    "#### function\n",
    "\n",
    "1. glob2.glob(\"*\") - it will display all the files\n",
    "2. glob2.glob(\"*.txt\") - it will display all the file with the .txt extension \n",
    "\n"
   ]
  },
  {
   "cell_type": "code",
   "execution_count": 5,
   "metadata": {},
   "outputs": [
    {
     "data": {
      "text/plain": [
       "['example.txt', 'example_w.txt']"
      ]
     },
     "execution_count": 5,
     "metadata": {},
     "output_type": "execute_result"
    }
   ],
   "source": [
    "import glob2\n",
    "\n",
    "glob2.glob(\"*.txt\")"
   ]
  },
  {
   "cell_type": "markdown",
   "metadata": {},
   "source": [
    "### time\n",
    "\n",
    "time module deals with date and time\n",
    "\n",
    "#### function\n",
    "1. time.sleep(seconds) - it will take seconds as argument and for that time period it will sleep\n",
    "2. time.time() - it will returns the number of seconds from epoch 1 jan 1970\n",
    "3. time.localtime(time.time()) - it will give the time in structural format and take the argument as time.time()\n",
    "4. time.ctime(time.time()) - it will return the time in string format\n",
    "5. time.gmtime(time.time()) - it will give time in structural format but as per UTC\n",
    "6. time.mktime((year,month,day,hour,mint,sec,weekday mon tue,year day 1 to 366,daylight saving time 0 1 -1)) - it take struct time or 9 argument and return seconds from epoch\n",
    "7. time.asctime((year,month,day,hour,mint,sec,weekday mon tue,year day 1 to 366,daylight saving time 0 1 -1)) - it take struct time or 9 argumetn and return time in string format\n"
   ]
  },
  {
   "cell_type": "code",
   "execution_count": 8,
   "metadata": {},
   "outputs": [
    {
     "name": "stdout",
     "output_type": "stream",
     "text": [
      "1558591495.9545014\n",
      "After 2 sec\n",
      "time.struct_time(tm_year=2019, tm_mon=5, tm_mday=23, tm_hour=10, tm_min=4, tm_sec=55, tm_wday=3, tm_yday=143, tm_isdst=0)\n",
      "Thu May 23 10:04:55 2019\n",
      "time.struct_time(tm_year=2019, tm_mon=5, tm_mday=23, tm_hour=6, tm_min=4, tm_sec=55, tm_wday=3, tm_yday=143, tm_isdst=0)\n",
      "1558577095.0\n",
      "Thu May 23 06:04:55 2019\n"
     ]
    }
   ],
   "source": [
    "import time\n",
    "\n",
    "t1 = time.time()\n",
    "print(t1)\n",
    "\n",
    "t2 = time.sleep(2)\n",
    "print(\"After 2 sec\")\n",
    "\n",
    "t3 = time.localtime(t1)\n",
    "print(t3)\n",
    "\n",
    "t4 = time.ctime(t1)\n",
    "print(t4)\n",
    "\n",
    "t5 = time.gmtime(t1)\n",
    "print(t5)\n",
    "\n",
    "t6 = time.mktime(t5)\n",
    "print(t6)\n",
    "\n",
    "t7 = time.asctime(t5)\n",
    "print(t7)"
   ]
  },
  {
   "cell_type": "markdown",
   "metadata": {},
   "source": [
    "### calendar\n",
    "\n",
    "this module is mainly for calendar related operation\n",
    "\n",
    "#### function\n",
    "1. calendar.month(year,month) - it will return the calendar for the given month"
   ]
  },
  {
   "cell_type": "code",
   "execution_count": 14,
   "metadata": {},
   "outputs": [
    {
     "name": "stdout",
     "output_type": "stream",
     "text": [
      "     June 2019\n",
      "Mo Tu We Th Fr Sa Su\n",
      "                1  2\n",
      " 3  4  5  6  7  8  9\n",
      "10 11 12 13 14 15 16\n",
      "17 18 19 20 21 22 23\n",
      "24 25 26 27 28 29 30\n",
      "\n"
     ]
    },
    {
     "data": {
      "text/plain": [
       "['Calendar',\n",
       " 'EPOCH',\n",
       " 'FRIDAY',\n",
       " 'February',\n",
       " 'HTMLCalendar',\n",
       " 'IllegalMonthError',\n",
       " 'IllegalWeekdayError',\n",
       " 'January',\n",
       " 'LocaleHTMLCalendar',\n",
       " 'LocaleTextCalendar',\n",
       " 'MONDAY',\n",
       " 'SATURDAY',\n",
       " 'SUNDAY',\n",
       " 'THURSDAY',\n",
       " 'TUESDAY',\n",
       " 'TextCalendar',\n",
       " 'WEDNESDAY',\n",
       " '_EPOCH_ORD',\n",
       " '__all__',\n",
       " '__builtins__',\n",
       " '__cached__',\n",
       " '__doc__',\n",
       " '__file__',\n",
       " '__loader__',\n",
       " '__name__',\n",
       " '__package__',\n",
       " '__spec__',\n",
       " '_colwidth',\n",
       " '_locale',\n",
       " '_localized_day',\n",
       " '_localized_month',\n",
       " '_spacing',\n",
       " 'c',\n",
       " 'calendar',\n",
       " 'datetime',\n",
       " 'day_abbr',\n",
       " 'day_name',\n",
       " 'different_locale',\n",
       " 'error',\n",
       " 'firstweekday',\n",
       " 'format',\n",
       " 'formatstring',\n",
       " 'isleap',\n",
       " 'leapdays',\n",
       " 'main',\n",
       " 'mdays',\n",
       " 'month',\n",
       " 'month_abbr',\n",
       " 'month_name',\n",
       " 'monthcalendar',\n",
       " 'monthrange',\n",
       " 'prcal',\n",
       " 'prmonth',\n",
       " 'prweek',\n",
       " 'repeat',\n",
       " 'setfirstweekday',\n",
       " 'sys',\n",
       " 'timegm',\n",
       " 'week',\n",
       " 'weekday',\n",
       " 'weekheader']"
      ]
     },
     "execution_count": 14,
     "metadata": {},
     "output_type": "execute_result"
    }
   ],
   "source": [
    "import calendar\n",
    "\n",
    "c1 = calendar.month(2019,6)\n",
    "print(c1)\n",
    "\n",
    "#help(calendar)\n",
    "dir(calendar)"
   ]
  },
  {
   "cell_type": "markdown",
   "metadata": {},
   "source": [
    "### datetime\n",
    "\n",
    "it deals with date and time, it helps to get the day difference between two dates or add days\n",
    "\n",
    "#### function\n",
    "\n",
    "1. datetime.datetime.now() - it returns a datetime object with current date\n",
    "2. difference.days - it will return no of days between two date\n",
    "3. difference.total_seconds() - it will return total seconds between two date difference\n",
    "4. d.strftime(\"%Y-%m-%d-%H-%M-%S-%f\") - it will format the datetime in a given format"
   ]
  },
  {
   "cell_type": "code",
   "execution_count": 30,
   "metadata": {},
   "outputs": [
    {
     "name": "stdout",
     "output_type": "stream",
     "text": [
      "2019-05-23 11:05:31.156762\n",
      "2019-05-22 00:00:00\n",
      "1\n",
      "126331.156762\n",
      "2019-05-23\n",
      "2019-05-25 11:05:31.156762\n"
     ]
    }
   ],
   "source": [
    "import datetime as d\n",
    "\n",
    "d1 = d.datetime.now()\n",
    "print(d1)\n",
    "\n",
    "yesterday = datetime.datetime(2019,5,22,0)\n",
    "print(yesterday)\n",
    "\n",
    "diff = d1 - yesterday\n",
    "print(diff.days)\n",
    "print(diff.total_seconds())\n",
    "\n",
    "d2 = d1.strftime(\"%Y-%m-%d\")\n",
    "print(d2)\n",
    "\n",
    "after = d1+ d.timedelta(days=2)\n",
    "print(after)"
   ]
  },
  {
   "cell_type": "markdown",
   "metadata": {},
   "source": [
    "### difflib\n",
    "\n",
    "This module is use to predict wrong spell and show the nearest available string\n",
    "\n",
    "#### function\n",
    "1. SequenceMatcher(None,\"misspell\",\"correctspell\").ratio() - it will return the ration difference between two words\n",
    "2. get_close_matches(word, possibilities, max, cutoff) - it will retunr the best matches by default max is 3 and cutoff is 0.6"
   ]
  },
  {
   "cell_type": "code",
   "execution_count": 44,
   "metadata": {},
   "outputs": [
    {
     "name": "stdout",
     "output_type": "stream",
     "text": [
      "0.8888888888888888\n",
      "['rain']\n"
     ]
    }
   ],
   "source": [
    "from difflib import SequenceMatcher\n",
    "from difflib import get_close_matches\n",
    "\n",
    "l1 = [\"train\",\"drain\",\"brain\",\"rain\"]\n",
    "print(SequenceMatcher(None,\"rainn\",\"rain\").ratio())\n",
    "#help(get_close_matches)\n",
    "print(get_close_matches(\"rain\",l1,3,0.89))"
   ]
  },
  {
   "cell_type": "code",
   "execution_count": null,
   "metadata": {},
   "outputs": [],
   "source": []
  }
 ],
 "metadata": {
  "kernelspec": {
   "display_name": "Python 3",
   "language": "python",
   "name": "python3"
  },
  "language_info": {
   "codemirror_mode": {
    "name": "ipython",
    "version": 3
   },
   "file_extension": ".py",
   "mimetype": "text/x-python",
   "name": "python",
   "nbconvert_exporter": "python",
   "pygments_lexer": "ipython3",
   "version": "3.6.7"
  }
 },
 "nbformat": 4,
 "nbformat_minor": 2
}
