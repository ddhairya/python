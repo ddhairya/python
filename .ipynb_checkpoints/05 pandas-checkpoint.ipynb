{
 "cells": [
  {
   "cell_type": "markdown",
   "metadata": {},
   "source": [
    "### panda\n",
    "\n",
    "This module is mainly used for data science and visualization. Loading data from excel file and analyzing that data\n",
    "\n",
    "#### function\n",
    "1. DataFrame() - it will take number of argument and return the data structure\n",
    "2. df.mean() -  it will return the mean of the series or DF\n",
    "3. df.min|max|avg() - it will min, max or avg of the  series or DF\n",
    "4. read_csv(\"file\", header = True, sep = \",\") - it will read the csv file, header is true and separator is , by default.\n",
    "5. df.set_index(\"columnName\") - it will set the defined column as index\n",
    "6. df.shape() - it will give the shape of the DF, no of rows and columns\n",
    "7. read_json(\"filename|path\") - it will read the json file.\n",
    "8. read_excel(\"filename|path\", sheetname = 0) - it will read the excel file and first sheet in it\n",
    "9. df.loc[\"row value range\":\"column value range\"] - it will slice the DF based on the name values\n",
    "10. df.iloc[\"row number range\":\"column number range\"] - it will slice the DF based on the number"
   ]
  },
  {
   "cell_type": "code",
   "execution_count": 15,
   "metadata": {},
   "outputs": [
    {
     "name": "stdout",
     "output_type": "stream",
     "text": [
      "         0      1\n",
      "0  dhairya   6250\n",
      "1     raju   8500\n",
      "2   kalyan  15000\n",
      "      Name  Salary\n",
      "0  dhairya    6250\n",
      "1     raju    8500\n",
      "2   kalyan   15000\n",
      "      Name  Salary\n",
      "1  dhairya    6250\n",
      "2     raju    8500\n",
      "3   kalyan   15000\n",
      "      Name  Salary\n",
      "1  dhairya  6250.0\n",
      "2     raju  8500.0\n",
      "3   kalyan     NaN\n",
      "Mean Salary    9916.666667\n",
      "dtype: float64\n",
      "Mean 9916.666666666666\n"
     ]
    }
   ],
   "source": [
    "import pandas\n",
    "\n",
    "df1 = pandas.DataFrame([['dhairya',6250],['raju',8500],['kalyan',15000]])\n",
    "print(df1)\n",
    "\n",
    "df2 = pandas.DataFrame([['dhairya',6250],['raju',8500],['kalyan',15000]], columns=[\"Name\",\"Salary\"])\n",
    "print(df2)\n",
    "\n",
    "df3 = pandas.DataFrame([['dhairya',6250],['raju',8500],['kalyan',15000]], columns=[\"Name\",\"Salary\"], index=[1,2,3])\n",
    "print(df3)\n",
    "\n",
    "df4 = pandas.DataFrame([['dhairya',6250],['raju',8500],['kalyan']], columns=[\"Name\",\"Salary\"], index=[1,2,3])\n",
    "print(df4)\n",
    "\n",
    "x1 = df3.mean()\n",
    "print(\"Mean %s\" %x1)\n",
    "\n",
    "x2 = df3.Salary.mean()\n",
    "print(\"Mean {}\". format(x2))"
   ]
  },
  {
   "cell_type": "code",
   "execution_count": 21,
   "metadata": {},
   "outputs": [
    {
     "name": "stdout",
     "output_type": "stream",
     "text": [
      "   id       name  age  weight  gender\n",
      "0   1       biju   40      75    male\n",
      "1   2     shrini   35      80    male\n",
      "2   3      murli   27      60    male\n",
      "3   4  shreenath   33      70    male\n",
      "4   5    dhairya   27      74    male\n",
      "5   6       kate   30      55  female\n",
      "    0          1    2       3       4\n",
      "0  id       name  age  weight  gender\n",
      "1   1       biju   40      75    male\n",
      "2   2     shrini   35      80    male\n",
      "3   3      murli   27      60    male\n",
      "4   4  shreenath   33      70    male\n",
      "5   5    dhairya   27      74    male\n",
      "6   6       kate   30      55  female\n",
      "         name  age  weight  gender\n",
      "id                                \n",
      "1        biju   40      75    male\n",
      "2      shrini   35      80    male\n",
      "3       murli   27      60    male\n",
      "4   shreenath   33      70    male\n",
      "5     dhairya   27      74    male\n",
      "6        kate   30      55  female\n",
      "(6, 4)\n"
     ]
    }
   ],
   "source": [
    "import pandas as pd\n",
    "\n",
    "df1 = pd.read_csv(\"data.csv\")\n",
    "print(df1)\n",
    "\n",
    "df2 = pd.read_csv(\"data.csv\", header = None)\n",
    "print(df2)\n",
    "\n",
    "df3 = pd.read_csv(\"data.csv\").set_index(\"id\")\n",
    "print(df3)\n",
    "\n",
    "x1 = df3.shape\n",
    "print(x1)"
   ]
  },
  {
   "cell_type": "code",
   "execution_count": 24,
   "metadata": {},
   "outputs": [
    {
     "name": "stdout",
     "output_type": "stream",
     "text": [
      "   dhairya   raj  alex\n",
      "0     2023  4698  9786\n"
     ]
    }
   ],
   "source": [
    "import pandas as pd\n",
    "\n",
    "df1 = pd.read_json(\"pd_data.json\")\n",
    "print(df1)"
   ]
  },
  {
   "cell_type": "code",
   "execution_count": 27,
   "metadata": {},
   "outputs": [
    {
     "name": "stdout",
     "output_type": "stream",
     "text": [
      "         name  age  weight  gender\n",
      "id                                \n",
      "1        biju   40      75    male\n",
      "2      shrini   35      80    male\n",
      "3       murli   27      60    male\n",
      "4   shreenath   33      70    male\n",
      "5     dhairya   27      74    male\n",
      "6        kate   30      55  female\n"
     ]
    }
   ],
   "source": [
    "import pandas as pd\n",
    "\n",
    "df1 = pd.read_excel(\"data.xlsx\", sheet_name = 0).set_index(\"id\")\n",
    "print(df1)"
   ]
  },
  {
   "cell_type": "markdown",
   "metadata": {},
   "source": [
    "#### index and slice"
   ]
  },
  {
   "cell_type": "code",
   "execution_count": 18,
   "metadata": {},
   "outputs": [
    {
     "name": "stdout",
     "output_type": "stream",
     "text": [
      "         name  age  weight  gender\n",
      "id                                \n",
      "1        biju   40      75    male\n",
      "2      shrini   35      80    male\n",
      "3       murli   27      60    male\n",
      "4   shreenath   33      70    male\n",
      "5     dhairya   27      74    male\n",
      "6        kate   30      55  female\n",
      "    age  weight\n",
      "id             \n",
      "2    35      80\n",
      "3    27      60\n",
      "4    33      70\n",
      "5    27      74\n",
      "         name  age  weight  gender\n",
      "id                                \n",
      "2      shrini   35      80    male\n",
      "3       murli   27      60    male\n",
      "4   shreenath   33      70    male\n",
      "5     dhairya   27      74    male\n",
      "6        kate   30      55  female\n",
      "age 27\n"
     ]
    }
   ],
   "source": [
    "import pandas as pd\n",
    "\n",
    "df1 = pd.read_csv(\"data.csv\").set_index(\"id\")\n",
    "print(df1)\n",
    "\n",
    "df2 = df1.loc[2:5,\"age\":\"weight\"]\n",
    "print(df2)\n",
    "\n",
    "df3 = df1.loc[2:,:]\n",
    "print(df3)\n",
    "\n",
    "df4 = df1.loc[5,\"age\"]\n",
    "print(\"age %s\" %df4)\n",
    "\n"
   ]
  },
  {
   "cell_type": "code",
   "execution_count": 19,
   "metadata": {},
   "outputs": [
    {
     "name": "stdout",
     "output_type": "stream",
     "text": [
      "[['biju', 40, 75, 'male'], ['shrini', 35, 80, 'male'], ['murli', 27, 60, 'male'], ['shreenath', 33, 70, 'male'], ['dhairya', 27, 74, 'male'], ['kate', 30, 55, 'female']]\n"
     ]
    }
   ],
   "source": [
    "\"\"\"\n",
    "This will convert a DF into a list of rows\n",
    "\n",
    "\"\"\"\n",
    "\n",
    "import pandas as pd\n",
    "\n",
    "df1 = pd.read_csv(\"data.csv\").set_index(\"id\")\n",
    "df2 = list(df1)\n",
    "\n",
    "l = []\n",
    "for i in range(int(df1.shape[0])):\n",
    "    l.append(list(df1.loc[i+1,:]))\n",
    "    \n",
    "print(l)"
   ]
  },
  {
   "cell_type": "code",
   "execution_count": null,
   "metadata": {},
   "outputs": [],
   "source": []
  }
 ],
 "metadata": {
  "kernelspec": {
   "display_name": "Python 3",
   "language": "python",
   "name": "python3"
  },
  "language_info": {
   "codemirror_mode": {
    "name": "ipython",
    "version": 3
   },
   "file_extension": ".py",
   "mimetype": "text/x-python",
   "name": "python",
   "nbconvert_exporter": "python",
   "pygments_lexer": "ipython3",
   "version": "3.6.7"
  }
 },
 "nbformat": 4,
 "nbformat_minor": 2
}
