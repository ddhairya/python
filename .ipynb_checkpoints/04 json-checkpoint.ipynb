{
 "cells": [
  {
   "cell_type": "code",
   "execution_count": 21,
   "metadata": {},
   "outputs": [
    {
     "name": "stdout",
     "output_type": "stream",
     "text": [
      "[2023, 4056]\n",
      "<class 'dict'>\n"
     ]
    }
   ],
   "source": [
    "r\"\"\"\n",
    "How to read and load the json data file \n",
    "    1. first open a file as read mode\n",
    "    2. json.load() will load the json file and it will return dict object\n",
    "\n",
    "\"\"\"\n",
    "import json\n",
    "\n",
    "with open(\"data.json\") as file:\n",
    "    data = json.load(file)\n",
    "\n",
    "print(data[\"dhairya\"])\n",
    "print(type(data))"
   ]
  },
  {
   "cell_type": "code",
   "execution_count": null,
   "metadata": {},
   "outputs": [],
   "source": []
  }
 ],
 "metadata": {
  "kernelspec": {
   "display_name": "Python 3",
   "language": "python",
   "name": "python3"
  },
  "language_info": {
   "codemirror_mode": {
    "name": "ipython",
    "version": 3
   },
   "file_extension": ".py",
   "mimetype": "text/x-python",
   "name": "python",
   "nbconvert_exporter": "python",
   "pygments_lexer": "ipython3",
   "version": "3.6.7"
  }
 },
 "nbformat": 4,
 "nbformat_minor": 2
}
